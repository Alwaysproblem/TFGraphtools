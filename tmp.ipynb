{
 "cells": [
  {
   "cell_type": "code",
   "execution_count": 4,
   "source": [
    "from itertools import accumulate"
   ],
   "outputs": [],
   "metadata": {}
  },
  {
   "cell_type": "code",
   "execution_count": 8,
   "source": [
    "M = 4"
   ],
   "outputs": [],
   "metadata": {}
  },
  {
   "cell_type": "code",
   "execution_count": 1,
   "source": [
    "a = [3, 1, 1, 1, 5, 0, 0, 0, 9, 17, 23, 1, 1, 5, 7, 6]"
   ],
   "outputs": [],
   "metadata": {}
  },
  {
   "cell_type": "code",
   "execution_count": 7,
   "source": [
    "[*accumulate(a, lambda x, y: x+y)]"
   ],
   "outputs": [
    {
     "output_type": "execute_result",
     "data": {
      "text/plain": [
       "[3, 4, 5, 6, 11, 11, 11, 11, 20, 37, 60, 61, 62, 67, 74, 80]"
      ]
     },
     "metadata": {},
     "execution_count": 7
    }
   ],
   "metadata": {}
  },
  {
   "cell_type": "code",
   "execution_count": 3,
   "source": [],
   "outputs": [
    {
     "output_type": "execute_result",
     "data": {
      "text/plain": [
       "20.0"
      ]
     },
     "metadata": {},
     "execution_count": 3
    }
   ],
   "metadata": {}
  },
  {
   "cell_type": "code",
   "execution_count": 9,
   "source": [
    "a = [1000, 0, 0, 0, 0, 0, 0, 0, 0, 0, 0, 1200, 1, 1, 1, 1, 1, 1, 34, 56, 74, 39, 26, 49]"
   ],
   "outputs": [],
   "metadata": {}
  },
  {
   "cell_type": "code",
   "execution_count": 10,
   "source": [
    "[*accumulate(a, lambda x, y: x+y)]"
   ],
   "outputs": [
    {
     "output_type": "execute_result",
     "data": {
      "text/plain": [
       "[1000,\n",
       " 1000,\n",
       " 1000,\n",
       " 1000,\n",
       " 1000,\n",
       " 1000,\n",
       " 1000,\n",
       " 1000,\n",
       " 1000,\n",
       " 1000,\n",
       " 1000,\n",
       " 2200,\n",
       " 2201,\n",
       " 2202,\n",
       " 2203,\n",
       " 2204,\n",
       " 2205,\n",
       " 2206,\n",
       " 2240,\n",
       " 2296,\n",
       " 2370,\n",
       " 2409,\n",
       " 2435,\n",
       " 2484]"
      ]
     },
     "metadata": {},
     "execution_count": 10
    }
   ],
   "metadata": {}
  },
  {
   "cell_type": "code",
   "execution_count": 11,
   "source": [
    "2484 / 4"
   ],
   "outputs": [
    {
     "output_type": "execute_result",
     "data": {
      "text/plain": [
       "621.0"
      ]
     },
     "metadata": {},
     "execution_count": 11
    }
   ],
   "metadata": {}
  },
  {
   "cell_type": "code",
   "execution_count": null,
   "source": [
    "def divide_group_helper(arr, num_groups, result):\n",
    "    if not arr or not num_groups:\n",
    "        return\n",
    "    \n",
    "    guide = [*accumulate(a, lambda x, y: x+y)]\n",
    "    total_sum = guide[-1]\n",
    "    sum_over_group_supposed = total_sum / num_groups\n",
    "\n",
    "    for idx, v in guide:\n",
    "        if v > sum_over_group_supposed:\n",
    "            break\n",
    "    grouped_res = [arr.pop(0) for i in range(idx)]\n",
    "    result.append(grouped_res)\n",
    "    return divide_group_helper(arr, num_groups - 1, result)\n",
    "\n",
    "divide_group_helper(a, 4)"
   ],
   "outputs": [],
   "metadata": {}
  },
  {
   "cell_type": "code",
   "execution_count": 20,
   "source": [
    "arr = [1000, 12, 0, 0, 0, 0, 0, 0, 3, 4, 4, 5, 5, 6]\n",
    "guide = [*accumulate(arr, lambda x, y: x+y)]\n",
    "for idx in range(len(guide)):\n",
    "    if guide[idx] != guide[idx + 1] and guide[idx + 1] > 12:\n",
    "        break\n",
    "idx"
   ],
   "outputs": [
    {
     "output_type": "execute_result",
     "data": {
      "text/plain": [
       "0"
      ]
     },
     "metadata": {},
     "execution_count": 20
    }
   ],
   "metadata": {}
  },
  {
   "cell_type": "code",
   "execution_count": 2,
   "source": [
    "it = [[1,2,3], [4,5,6], [7,8,9], [12,4,5]]\n",
    "[*map(sum, it)]"
   ],
   "outputs": [
    {
     "output_type": "execute_result",
     "data": {
      "text/plain": [
       "[6, 15, 24, 21]"
      ]
     },
     "metadata": {},
     "execution_count": 2
    }
   ],
   "metadata": {}
  },
  {
   "cell_type": "code",
   "execution_count": null,
   "source": [],
   "outputs": [],
   "metadata": {}
  }
 ],
 "metadata": {
  "orig_nbformat": 4,
  "language_info": {
   "name": "python"
  }
 },
 "nbformat": 4,
 "nbformat_minor": 2
}